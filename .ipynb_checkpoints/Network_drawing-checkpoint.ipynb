{
 "cells": [
  {
   "cell_type": "code",
   "execution_count": 2,
   "metadata": {},
   "outputs": [],
   "source": [
    "# import libraries\n",
    "import pandas as pd\n",
    "import matplotlib.pyplot as plt\n",
    "import networkx as nx\n",
    "\n",
    "# load the data cleaned by openrefine\n",
    "kg_df = pd.read_csv('data/open_refine.csv')"
   ]
  },
  {
   "cell_type": "markdown",
   "metadata": {},
   "source": [
    "## data cleaning"
   ]
  },
  {
   "cell_type": "code",
   "execution_count": 3,
   "metadata": {},
   "outputs": [],
   "source": [
    "# reset index\n",
    "kg_df.reset_index(inplace=True)\n",
    "\n",
    "# only using source, target, relation and sentence columns\n",
    "kg_df = kg_df[['source','target','relation','sentence']]\n",
    "\n",
    "# initiate a new dataframe to store the data\n",
    "df = pd.DataFrame()\n",
    "\n",
    "# iterate through the dataframe and only save the rows that the source and target entities are different\n",
    "for idx, row in kg_df.iterrows():\n",
    "    if row['source'] != row['target']:\n",
    "        df = df.append(row)\n",
    "\n",
    "# drop druplicates\n",
    "df = df.drop_duplicates()\n",
    "\n",
    "# save the dataframe\n",
    "df.to_csv(\"knowledge_df.csv\")"
   ]
  },
  {
   "cell_type": "markdown",
   "metadata": {},
   "source": [
    "## Network creation"
   ]
  },
  {
   "cell_type": "code",
   "execution_count": null,
   "metadata": {},
   "outputs": [],
   "source": [
    "# initiate a dataframe for directed graph. Only using source, target, relation columns\n",
    "network_df = df[['source','target','relation']]\n",
    "\n",
    "# drop duplicates\n",
    "network_df = network_df.drop_duplicates()\n",
    "\n",
    "# using networkx, create a directed graph from the datafrmae\n",
    "G = nx.from_pandas_edgelist(network_df, 'source','target',edge_attr=True, create_using=nx.MultiDiGraph())\n",
    "\n",
    "# save the relation_labels\n",
    "edge_labels = nx.get_edge_attributes(G,'relation')\n",
    "\n",
    "# initialize a figure to draw a plot\n",
    "plt.figure(figsize=(30,30))\n",
    "\n",
    "pos = nx.spring_layout(G,k=0.5)\n",
    "\n",
    "\n",
    "\n",
    "# nx.draw(G, with_labels=True,node_color='skyblue',edge_labels=edge_labels, node_size=1500, edge_cmap=plt.cm.Blues,pos=pos)\n",
    "# nx.draw_networkx_edge_labels(G,pos,edge_labels=edge_labels, font_size=6)\n",
    "\n",
    "\n",
    "nx.draw(G, with_labels=True,node_color='skyblue', node_size=1500, edge_cmap=plt.cm.Blues,pos=pos)\n",
    "\n",
    "plt.savefig('images/automobile_network.png')\n",
    "\n",
    "#nx.draw_networkx_edge_labels(G,pos, font_size=6)"
   ]
  },
  {
   "cell_type": "code",
   "execution_count": null,
   "metadata": {},
   "outputs": [],
   "source": []
  }
 ],
 "metadata": {
  "kernelspec": {
   "display_name": "Python 3",
   "language": "python",
   "name": "python3"
  },
  "language_info": {
   "codemirror_mode": {
    "name": "ipython",
    "version": 3
   },
   "file_extension": ".py",
   "mimetype": "text/x-python",
   "name": "python",
   "nbconvert_exporter": "python",
   "pygments_lexer": "ipython3",
   "version": "3.6.9"
  },
  "toc": {
   "base_numbering": 1,
   "nav_menu": {},
   "number_sections": false,
   "sideBar": true,
   "skip_h1_title": false,
   "title_cell": "Table of Contents",
   "title_sidebar": "Contents",
   "toc_cell": false,
   "toc_position": {},
   "toc_section_display": true,
   "toc_window_display": false
  }
 },
 "nbformat": 4,
 "nbformat_minor": 2
}
